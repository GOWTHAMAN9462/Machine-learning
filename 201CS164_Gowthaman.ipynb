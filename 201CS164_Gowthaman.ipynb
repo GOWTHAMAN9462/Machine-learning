{
  "nbformat": 4,
  "nbformat_minor": 0,
  "metadata": {
    "colab": {
      "name": "201CS164_Gowthaman.ipynb",
      "provenance": []
    },
    "kernelspec": {
      "name": "python3",
      "display_name": "Python 3"
    },
    "language_info": {
      "name": "python"
    }
  },
  "cells": [
    {
      "cell_type": "markdown",
      "metadata": {
        "id": "jyurFQtzSJUh"
      },
      "source": [
        "**TASK 1**"
      ]
    },
    {
      "cell_type": "code",
      "metadata": {
        "colab": {
          "base_uri": "https://localhost:8080/"
        },
        "id": "3Y98_wnmR1Qy",
        "outputId": "6cc4e89f-6577-4281-cecd-ee75c75dd88d"
      },
      "source": [
        "function = 5 + (5%2) - (4 + (8 / 2 * 3 ) - (8**2 // 4))\n",
        "print(function)\n",
        "# The order of priority is BODMAS.\n",
        "# Here the highest priority is given to parentheses, so the values inside the parentheses are calculated.\n",
        "# Here (5%2) = 1\n",
        "# then (4 + (8 / 2 * 3 ) - (8 ** 2 // 4)) is taken.\n",
        "# Here (8 / 2 * 3) is taken first and here both division and multiplication has same prioprity. Here the  priority is given based on the position which comes first.\n",
        "# (8 / 2 * 3) = (4*3) = 12\n",
        "# Then, in  (8 ** 2 // 4)  exponet has more priority than floor division. so,(8 ** 2 // 4) = (64//4) = 16\n",
        "# In  (4 + (8 / 2 * 3 ) - (8**2 // 4))  both addition and subraction has same priority. Here the priority is given based on the position which comes first.\n",
        "#  (4 + (8 / 2 * 3 ) - (8**2 // 4)) = 0\n",
        "# 5 + (5%2) - (4 + (8 / 2 * 3 ) - (8**2 // 4)) = 5 + 1 - 0 = 6"
      ],
      "execution_count": 5,
      "outputs": [
        {
          "output_type": "stream",
          "text": [
            "6.0\n"
          ],
          "name": "stdout"
        }
      ]
    },
    {
      "cell_type": "markdown",
      "metadata": {
        "id": "q7VmTR3wsPve"
      },
      "source": [
        "**TASK 2**"
      ]
    },
    {
      "cell_type": "code",
      "metadata": {
        "colab": {
          "base_uri": "https://localhost:8080/"
        },
        "id": "srapK3SmsZqA",
        "outputId": "1a739429-fd24-4fb3-c881-e1ffe4bc56a5"
      },
      "source": [
        "num1 = int(input(\"Enter the first number: \")) # 1st number\n",
        "num2 =  int(input(\"Enter the second number: \")) # 2nd number\n",
        "print(\"The result of integer division is : \", num1//num2)\n",
        "print(\"The result of float division is : \", num1/num2)\n"
      ],
      "execution_count": 6,
      "outputs": [
        {
          "output_type": "stream",
          "text": [
            "Enter the first number: 7\n",
            "Enter the second number: 2\n",
            "The result of integer division is :  3\n",
            "The result of float division is :  3.5\n"
          ],
          "name": "stdout"
        }
      ]
    },
    {
      "cell_type": "markdown",
      "metadata": {
        "id": "Gkfk8JOzvqUC"
      },
      "source": [
        "**TASK 3**"
      ]
    },
    {
      "cell_type": "code",
      "metadata": {
        "id": "emopauFSvwfk",
        "colab": {
          "base_uri": "https://localhost:8080/"
        },
        "outputId": "525ed7a2-e106-443f-c0aa-461b3c0b3258"
      },
      "source": [
        "n = 10 # integer\n",
        "if n % 2 != 0: # if  n is odd\n",
        "  print(\"Weird\")\n",
        "elif n % 2 == 0 and n > 50: # if n is even and greater than 50\n",
        "  print(\"Not Weird\")\n",
        "elif n % 2 == 0 and n < 50: # if n is even and less than 50\n",
        "  print(\"Weird\")"
      ],
      "execution_count": 4,
      "outputs": [
        {
          "output_type": "stream",
          "text": [
            "Weird\n"
          ],
          "name": "stdout"
        }
      ]
    }
  ]
}